{
 "cells": [
  {
   "cell_type": "markdown",
   "metadata": {},
   "source": [
    "### Python based viewer tool for \"Probabilistic Reasoning over time\", EDAP01 Artificial Intelligence\n",
    "This notebook has been provided to you by Alexander Dürr, teaching assistant on the course, spring term 2021. It is based on the ideas and structure of the original Java skeleton for this assignment, provided by Elin A. Topp. Contact us (elin_anna.topp at cs.lth.se) in case you need help!"
   ]
  },
  {
   "cell_type": "markdown",
   "metadata": {},
   "source": [
    "### Note: Installing and activating widgets for Jupyter Notebook\n",
    "To be able to display the visualization (dashboard,animations,etc.) you have to initially install the package  if you don't have it yet"
   ]
  },
  {
   "cell_type": "raw",
   "metadata": {},
   "source": [
    "pip install ipywidgets"
   ]
  },
  {
   "cell_type": "markdown",
   "metadata": {},
   "source": [
    "### Note: Use Jupyter Lab for programming, Jupyter Notebook for visualization (optional)\n",
    "This command only enables the extension for jupyter notebook and not in jupyter lab! You can edit from the comfort of jupyter lab though and when you feel like using the widgets just go to\n",
    "\n",
    "Menu bar > Help > Launch Classic Notebook"
   ]
  },
  {
   "cell_type": "raw",
   "metadata": {},
   "source": [
    "jupyter nbextension enable --py widgetsnbextension"
   ]
  },
  {
   "cell_type": "markdown",
   "metadata": {},
   "source": [
    "## Here we go... all imports go through the models\n",
    "\n",
    "### Your job is in the files Localizer.py and RobotSimAndFilter.py"
   ]
  },
  {
   "cell_type": "code",
   "execution_count": 4,
   "metadata": {},
   "outputs": [
    {
     "ename": "NameError",
     "evalue": "name '_Localizer__sm' is not defined",
     "output_type": "error",
     "traceback": [
      "\u001b[0;31m---------------------------------------------------------------------------\u001b[0m",
      "\u001b[0;31mNameError\u001b[0m                                 Traceback (most recent call last)",
      "Input \u001b[0;32mIn [4]\u001b[0m, in \u001b[0;36m<module>\u001b[0;34m\u001b[0m\n\u001b[1;32m      8\u001b[0m \u001b[38;5;66;03m# Testing the models, e.g., for an 4x8 grid\u001b[39;00m\n\u001b[1;32m     10\u001b[0m states \u001b[38;5;241m=\u001b[39m StateModel( \u001b[38;5;241m4\u001b[39m, \u001b[38;5;241m8\u001b[39m)\n\u001b[0;32m---> 11\u001b[0m loc \u001b[38;5;241m=\u001b[39m \u001b[43mLocalizer\u001b[49m\u001b[43m(\u001b[49m\u001b[43mstates\u001b[49m\u001b[43m)\u001b[49m\n\u001b[1;32m     12\u001b[0m tMat \u001b[38;5;241m=\u001b[39m loc\u001b[38;5;241m.\u001b[39mget_transition_model()\n\u001b[1;32m     13\u001b[0m sVecs \u001b[38;5;241m=\u001b[39m loc\u001b[38;5;241m.\u001b[39mget_observation_model()\n",
      "File \u001b[0;32m~/Documents/git/EDAP01/assignment_3/HMMAssignment2022/handout/handout/models/Localizer.py:22\u001b[0m, in \u001b[0;36mLocalizer.__init__\u001b[0;34m(self, sm)\u001b[0m\n\u001b[1;32m     18\u001b[0m \u001b[38;5;28mself\u001b[39m\u001b[38;5;241m.\u001b[39m__om \u001b[38;5;241m=\u001b[39m ObservationModel(\u001b[38;5;28mself\u001b[39m\u001b[38;5;241m.\u001b[39m__sm)\n\u001b[1;32m     20\u001b[0m \u001b[38;5;66;03m# change in initialise in case you want to start out with something else\u001b[39;00m\n\u001b[1;32m     21\u001b[0m \u001b[38;5;66;03m# initialise can also be called again, if the filtering is to be reinitialised without a change in size\u001b[39;00m\n\u001b[0;32m---> 22\u001b[0m \u001b[38;5;28;43mself\u001b[39;49m\u001b[38;5;241;43m.\u001b[39;49m\u001b[43minitialise\u001b[49m\u001b[43m(\u001b[49m\u001b[43m)\u001b[49m\n",
      "File \u001b[0;32m~/Documents/git/EDAP01/assignment_3/HMMAssignment2022/handout/handout/models/Localizer.py:64\u001b[0m, in \u001b[0;36mLocalizer.initialise\u001b[0;34m(self)\u001b[0m\n\u001b[1;32m     60\u001b[0m     \u001b[38;5;28mself\u001b[39m\u001b[38;5;241m.\u001b[39m__estimate \u001b[38;5;241m=\u001b[39m \u001b[38;5;28mself\u001b[39m\u001b[38;5;241m.\u001b[39m__sm\u001b[38;5;241m.\u001b[39mstate_to_position(np\u001b[38;5;241m.\u001b[39margmax(\u001b[38;5;28mself\u001b[39m\u001b[38;5;241m.\u001b[39m__probs))\n\u001b[1;32m     62\u001b[0m \u001b[38;5;66;03m# add your simulator and filter here, for example    \u001b[39;00m\n\u001b[0;32m---> 64\u001b[0m     \u001b[38;5;28mself\u001b[39m\u001b[38;5;241m.\u001b[39m__rs \u001b[38;5;241m=\u001b[39m RobotSimAndFilter\u001b[38;5;241m.\u001b[39mRobotSim(__sm, __tm, __om)\n\u001b[1;32m     65\u001b[0m     \u001b[38;5;28mself\u001b[39m\u001b[38;5;241m.\u001b[39m__HMM \u001b[38;5;241m=\u001b[39m RobotSimAndFilter\u001b[38;5;241m.\u001b[39mHMMFilter(__sm)\n",
      "\u001b[0;31mNameError\u001b[0m: name '_Localizer__sm' is not defined"
     ]
    }
   ],
   "source": [
    "# In models, all the actually interesting stuff is located, in Localizer and RobotSimAndFilter \n",
    "# you can write your own code. Note that the visualization assumes to have access to an object of type\n",
    "# Localizer, i.e., you should definitely use that to implement the main \"three step cycle\" according to the \n",
    "# instructions.\n",
    "\n",
    "from models import *\n",
    "\n",
    "# Testing the models, e.g., for an 4x8 grid\n",
    "\n",
    "states = StateModel( 4, 8)\n",
    "loc = Localizer(states)\n",
    "tMat = loc.get_transition_model()\n",
    "sVecs = loc.get_observation_model()\n",
    "tMat.plot_T()\n",
    "sVecs.plot_o_diags()\n",
    "print(sVecs.get_o_reading(0))\n",
    "print(sVecs.get_o_reading(None))\n",
    "\n",
    "print(loc.update())\n"
   ]
  },
  {
   "cell_type": "markdown",
   "metadata": {},
   "source": [
    "### Write your own \"main\" here (without the viewer)"
   ]
  },
  {
   "cell_type": "code",
   "execution_count": null,
   "metadata": {
    "scrolled": true
   },
   "outputs": [],
   "source": [
    "# In this cell, you can write your own \"main\" to run and evaluate your \n",
    "# implementation without using the visualisation below\n",
    "\n",
    "# "
   ]
  },
  {
   "cell_type": "markdown",
   "metadata": {},
   "source": [
    "### Visualisation, both for transition and sensor probabilities and for actual runs of the filter, no changes needed"
   ]
  },
  {
   "cell_type": "code",
   "execution_count": 2,
   "metadata": {},
   "outputs": [
    {
     "name": "stdout",
     "output_type": "stream",
     "text": [
      "Hello World\n",
      "Hello again, World\n"
     ]
    },
    {
     "data": {
      "application/vnd.jupyter.widget-view+json": {
       "model_id": "73feccfabd064fd0978b56d814af6bf5",
       "version_major": 2,
       "version_minor": 0
      },
      "text/plain": [
       "VBox(children=(HBox(children=(IntSlider(value=4, description='Height', max=10, min=4), IntSlider(value=4, desc…"
      ]
     },
     "metadata": {},
     "output_type": "display_data"
    }
   ],
   "source": [
    "# In viewer, there is simply a file that handles all the thread based visualisation, no changes needed, \n",
    "# but feel free...\n",
    "\n",
    "from viewer import *\n",
    "\n",
    "ROWS = 4\n",
    "COLS = 4\n",
    "\n",
    "# the dashboard creates a state model of the dimensions given by ROWS and COLS, sets up the respective \n",
    "# Transition and Observation models, as well as an instance of class Localizer. All methods already \n",
    "# given in Localizer should thus keep their behaviour - otherwise the calls from Dashboard might result in \n",
    "# wrong output\n",
    "dash = Dashboard.Dashboard(ROWS, COLS)\n",
    "display(dash.db)\n"
   ]
  },
  {
   "cell_type": "code",
   "execution_count": null,
   "metadata": {},
   "outputs": [],
   "source": []
  },
  {
   "cell_type": "code",
   "execution_count": null,
   "metadata": {},
   "outputs": [],
   "source": []
  }
 ],
 "metadata": {
  "kernelspec": {
   "display_name": "Python 3 (ipykernel)",
   "language": "python",
   "name": "python3"
  },
  "language_info": {
   "codemirror_mode": {
    "name": "ipython",
    "version": 3
   },
   "file_extension": ".py",
   "mimetype": "text/x-python",
   "name": "python",
   "nbconvert_exporter": "python",
   "pygments_lexer": "ipython3",
   "version": "3.10.2"
  }
 },
 "nbformat": 4,
 "nbformat_minor": 4
}
